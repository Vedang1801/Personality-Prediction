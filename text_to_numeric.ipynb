{
 "cells": [
  {
   "cell_type": "code",
   "execution_count": 5,
   "metadata": {},
   "outputs": [],
   "source": [
    "import pandas as pd\n",
    "from sklearn.feature_extraction.text import TfidfVectorizer\n",
    "\n",
    "# Load the dataset into a Pandas dataframe\n",
    "df = pd.read_csv('result.csv')"
   ]
  },
  {
   "cell_type": "code",
   "execution_count": 8,
   "metadata": {},
   "outputs": [],
   "source": [
    "\n",
    "# Define the batch size (i.e., number of rows to process at once)\n",
    "batch_size = 1000\n",
    "\n",
    "# Initialize the TfidfVectorizer with your desired parameters\n",
    "tfidf = TfidfVectorizer(max_features=32)\n",
    "\n",
    "# Iterate over the rows of the dataframe in batches\n",
    "start_idx = 0\n",
    "transformed_batches = []\n",
    "while start_idx < len(df):\n",
    "    end_idx = min(start_idx + batch_size, len(df))\n",
    "    batch = df.iloc[start_idx:end_idx]\n",
    "\n",
    "    # Transform the textual column of the current batch into numeric using TfidfVectorizer\n",
    "    transformed = tfidf.fit_transform(batch['posts'])\n",
    "\n",
    "    # Append the transformed batch to the list of transformed batches\n",
    "    transformed_batches.append(pd.DataFrame(transformed.toarray()))\n",
    "\n",
    "    start_idx += batch_size\n",
    "\n",
    "# Concatenate all the transformed batches into a single dataframe\n",
    "transformed_df = pd.concat(transformed_batches, axis=0, ignore_index=True)\n",
    "\n",
    "# Add the transformed columns to the original dataframe\n",
    "df_transformed = pd.concat([df, transformed_df], axis=1)\n",
    "\n",
    "# Save the new dataframe to a CSV file\n",
    "df_transformed.to_csv('new_dataset2.csv', index=False)\n"
   ]
  }
 ],
 "metadata": {
  "kernelspec": {
   "display_name": "Python 3",
   "language": "python",
   "name": "python3"
  },
  "language_info": {
   "codemirror_mode": {
    "name": "ipython",
    "version": 3
   },
   "file_extension": ".py",
   "mimetype": "text/x-python",
   "name": "python",
   "nbconvert_exporter": "python",
   "pygments_lexer": "ipython3",
   "version": "3.8.0"
  },
  "orig_nbformat": 4,
  "vscode": {
   "interpreter": {
    "hash": "a35f83b9ba2acdef1303b38bfcf08450983c186aeac4dc36ffcd2a01d149a54f"
   }
  }
 },
 "nbformat": 4,
 "nbformat_minor": 2
}
